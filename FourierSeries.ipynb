{
 "cells": [
  {
   "cell_type": "code",
   "execution_count": 1,
   "metadata": {},
   "outputs": [],
   "source": [
    "import numpy as np\n",
    "import re\n",
    "import cmath\n",
    "import matplotlib.pyplot as plt\n",
    "import matplotlib.animation as animation\n",
    "import xml.etree.ElementTree as ET\n",
    "import matplotlib.patches as mpatches"
   ]
  },
  {
   "cell_type": "code",
   "execution_count": 12,
   "metadata": {},
   "outputs": [],
   "source": [
    "file = open(\"G-clef.svg\")\n",
    "\n",
    "regex = \"d=.*?z\"\n",
    "path = re.search(regex,file.read()).group()\n",
    "paths = path[3:].split(\" \")"
   ]
  },
  {
   "cell_type": "code",
   "execution_count": 13,
   "metadata": {},
   "outputs": [],
   "source": [
    "class Line:\n",
    "    \n",
    "    def __init__(self, start, end):\n",
    "        self.start = start\n",
    "        self.end = end\n",
    "        self.path_length = ((self.end.imag - self.start.imag)**2 + (self.end.real-self.start.real)**2)**1/2\n",
    "        \n",
    "        \n",
    "    def set_size(self, size):\n",
    "        self.size=size\n",
    "        \n",
    "    def x(self, t):\n",
    "        return (self.end.real-self.start.real)*t/self.size +self.start.real\n",
    "    \n",
    "    def y(self, t):\n",
    "        return (self.end.imag-self.start.imag)*t/self.size + self.start.imag\n",
    "    \n",
    "    def get_path_length(self):\n",
    "        return self.path_length"
   ]
  },
  {
   "cell_type": "code",
   "execution_count": 14,
   "metadata": {},
   "outputs": [],
   "source": [
    "class CBezier:\n",
    "    N = np.linspace(0,1,1001)\n",
    "    \n",
    "    def __init__(self, start, end, c1, c2):\n",
    "        self.start = start\n",
    "        self.end = end\n",
    "        self.c1 = c1\n",
    "        self.c2 = c2\n",
    "        self.size = 1\n",
    "        self.path_length = 0\n",
    "        \n",
    "        for i in range(len(self.N)-1):\n",
    "            l_start_x = self.x(self.N[i])\n",
    "            l_start_y = self.y(self.N[i])\n",
    "            l_end_x = self.x(self.N[i+1])\n",
    "            l_end_y = self.y(self.N[i+1])\n",
    "            \n",
    "            l = Line(complex(l_start_x, l_start_y), complex(l_end_x,l_end_y))\n",
    "            self.path_length+=l.get_path_length()\n",
    "            \n",
    "        \n",
    "    def set_size(self, size):\n",
    "        self.size=size\n",
    "        \n",
    "    def x(self, t):\n",
    "        t = t/self.size\n",
    "        return (1-t)**3*self.start.real + 3*(1-t)**2*t*self.c1.real +3*(1-t)*t**2*self.c2.real + t**3*self.end.real\n",
    "    \n",
    "    def y(self, t):\n",
    "        t = t/self.size\n",
    "        return (1-t)**3*self.start.imag + 3*(1-t)**2*t*self.c1.imag +3*(1-t)*t**2*self.c2.imag + t**3*self.end.imag\n",
    "    \n",
    "    def get_path_length(self):\n",
    "        return ((self.c2.real-self.c1.real)**2 + (self.c2.imag - self.c1.imag)**2)**1/2"
   ]
  },
  {
   "cell_type": "code",
   "execution_count": 15,
   "metadata": {},
   "outputs": [],
   "source": [
    "def get_complex_coords(string):\n",
    "    c = [float(n) for n in string.split(\",\")]\n",
    "    return complex(c[0], -c[1])\n",
    "\n",
    "coords = complex(0,0)\n",
    "i = 0\n",
    "total_length = 0\n",
    "instr = []\n",
    "while i < len(paths):\n",
    "    if paths[i] == \"M\":\n",
    "        coords = get_complex_coords(paths[i+1])\n",
    "        i+=2 \n",
    "    elif paths[i] == \"L\":\n",
    "        end = get_complex_coords(paths[i+1])\n",
    "        line = Line(coords, end)\n",
    "        instr.append(line)\n",
    "        total_length += line.get_path_length()\n",
    "        coords = end\n",
    "        i+=2\n",
    "    elif paths[i] == \"C\":\n",
    "        end= get_complex_coords(paths[i+3])\n",
    "        curve = CBezier(coords, end, get_complex_coords(paths[i+1]), get_complex_coords(paths[i+2]))\n",
    "        instr.append(curve)\n",
    "        total_length += curve.get_path_length()\n",
    "        coords = end\n",
    "        i+=4\n",
    "    else:\n",
    "        i+=1\n",
    "        \n",
    "starts = []\n",
    "curr_length = 0\n",
    "\n",
    "for i in instr:\n",
    "    s=i.get_path_length()/total_length\n",
    "    i.set_size(s)\n",
    "    starts.append(curr_length)   \n",
    "    curr_length += s"
   ]
  },
  {
   "cell_type": "code",
   "execution_count": 16,
   "metadata": {},
   "outputs": [],
   "source": [
    "count = 0\n",
    "t_space = np.linspace(0,1,10001)\n",
    "x=[]\n",
    "y=[]\n",
    "for t in t_space:\n",
    "    if count != len(starts)-1 and starts[count+1] < t:\n",
    "        count += 1\n",
    "    x.append(instr[count].x(t-starts[count]))\n",
    "    y.append(instr[count].y(t-starts[count]))\n",
    "    \n"
   ]
  },
  {
   "cell_type": "code",
   "execution_count": 17,
   "metadata": {},
   "outputs": [],
   "source": [
    "count = 0\n",
    "constant_count = 4\n",
    "constants = {}\n",
    "delta_t = t_space[1]-t_space[0]\n",
    "for i in range(-constant_count, constant_count+1):\n",
    "    constants[i] = 0\n",
    "    for j in range(len(t_space)):\n",
    "        constants[i]+=cmath.exp(complex(0,-2*cmath.pi*i*t_space[j]))*complex(x[j],y[j])*delta_t\n",
    "        "
   ]
  },
  {
   "cell_type": "code",
   "execution_count": 18,
   "metadata": {},
   "outputs": [],
   "source": [
    "fourier_values = []\n",
    "for i in range(len(t_space)):\n",
    "    fourier_values.append(complex(0,0))\n",
    "    for j in range(-constant_count, constant_count+1):\n",
    "        fourier_values[i] += constants[j]*cmath.exp(j*2*cmath.pi*complex(0,1)*t_space[i])"
   ]
  },
  {
   "cell_type": "code",
   "execution_count": 19,
   "metadata": {},
   "outputs": [],
   "source": [
    "f_x = []\n",
    "f_y = []\n",
    "for c in fourier_values:\n",
    "    f_x.append(c.real)\n",
    "    f_y.append(c.imag)"
   ]
  },
  {
   "cell_type": "code",
   "execution_count": 20,
   "metadata": {},
   "outputs": [],
   "source": [
    "def f_series(instr, starts, constant_count, color=(0,0,0)):\n",
    "    count = 0\n",
    "    t_space = np.linspace(0,1,10001)\n",
    "    x=[]\n",
    "    y=[]\n",
    "    for t in t_space:\n",
    "        if count != len(starts)-1 and starts[count+1] < t:\n",
    "            count += 1\n",
    "        x.append(instr[count].x(t-starts[count]))\n",
    "        y.append(instr[count].y(t-starts[count]))\n",
    "    count = 0\n",
    "    constants = {}\n",
    "    delta_t = t_space[1]-t_space[0]\n",
    "    for i in range(-constant_count, constant_count+1):\n",
    "        constants[i] = 0\n",
    "        for j in range(len(t_space)):\n",
    "            constants[i]+=cmath.exp(complex(0,-2*cmath.pi*i*t_space[j]))*complex(x[j],y[j])*delta_t\n",
    "\n",
    "    fourier_values = []\n",
    "    for i in range(len(t_space)):\n",
    "        fourier_values.append(complex(0,0))\n",
    "        for j in range(-constant_count, constant_count+1):\n",
    "            fourier_values[i] += constants[j]*cmath.exp(j*2*cmath.pi*complex(0,1)*t_space[i])\n",
    "\n",
    "    f_x = []\n",
    "    f_y = []\n",
    "    for c in fourier_values:\n",
    "        f_x.append(c.real)\n",
    "        f_y.append(c.imag)\n",
    "\n",
    "    plt.plot(f_x, f_y, linewidth=2.0)\n"
   ]
  },
  {
   "cell_type": "code",
   "execution_count": 339,
   "metadata": {},
   "outputs": [],
   "source": [
    "def f_series_anim(instr, starts, constant_count, color=(0,0,0)):\n",
    "    frames = 100001\n",
    "    count = 0\n",
    "    t_space = np.linspace(0,1,10001)\n",
    "    x=[]\n",
    "    y=[]\n",
    "    for t in t_space:\n",
    "        if count != len(starts)-1 and starts[count+1] < t:\n",
    "            count += 1\n",
    "        x.append(instr[count].x(t-starts[count]))\n",
    "        y.append(instr[count].y(t-starts[count]))\n",
    "    count = 0\n",
    "    constants = {}\n",
    "    delta_t = t_space[1]-t_space[0]\n",
    "    \n",
    "    fig = plt.figure()\n",
    "    ax = plt.axes(xlim=(0, 400), ylim=(0, -600))\n",
    "    line, = ax.plot([],[])\n",
    "    \n",
    "    def init():\n",
    "        line.set_data([],[])\n",
    "        return line,\n",
    "    \n",
    "    \n",
    "    for i in range(-constant_count, constant_count+1):\n",
    "        constants[i] = 0\n",
    "        for j in range(len(t_space)):\n",
    "            constants[i]+=cmath.exp(complex(0,-2*cmath.pi*i*t_space[j]))*complex(x[j],y[j])*delta_t\n",
    "\n",
    "    fourier_values = []\n",
    "    f_x = []\n",
    "    f_y = []\n",
    "    def animate(i):\n",
    "        fourier_values.append(complex(0,0))\n",
    "        for j in range(-constant_count, constant_count+1):\n",
    "            fourier_values[i-1] += constants[j]*cmath.exp(j*2*cmath.pi*complex(0,1)*t_space[i-1])\n",
    "            f_x.append(fourier_values[i-1].real)\n",
    "            f_y.append(fourier_values[i-1].imag)\n",
    "        line.set_data(f_x,f_y)\n",
    "        return line,\n",
    "\n",
    "    anim = animation.FuncAnimation(fig, animate, init_func=init, frames=frames, interval=20, blit=True)\n",
    "    \n",
    "    anim.save('f_series.mp4', fps=30, extra_args=['-vcodec', 'libx264'])\n",
    "    \n",
    "    plt.show()\n",
    "    \n"
   ]
  },
  {
   "cell_type": "code",
   "execution_count": 23,
   "metadata": {},
   "outputs": [
    {
     "data": {
      "text/plain": [
       "<matplotlib.legend.Legend at 0x7f2eb2461d30>"
      ]
     },
     "execution_count": 23,
     "metadata": {},
     "output_type": "execute_result"
    },
    {
     "data": {
      "image/png": "[encoded data removed]",
      "text/plain": [
       "<Figure size 432x288 with 1 Axes>"
      ]
     },
     "metadata": {},
     "output_type": "display_data"
    }
   ],
   "source": [
    "plt.plot(x, y)\n",
    "f_series(instr, starts, 4)\n",
    "#f_series(instr, starts, 10)\n",
    "#f_series(instr, starts, 40)\n",
    "f_series(instr, starts, 100)\n",
    "\n",
    "orange_patch = mpatches.Patch(color='orange', label='9 terms')\n",
    "green_patch = mpatches.Patch(color='green', label='21 terms')\n",
    "red_patch = mpatches.Patch(color='red', label='81 terms')\n",
    "purple_patch = mpatches.Patch(color='purple', label='201 terms')\n",
    "blue_patch = mpatches.Patch(color='blue', label='original image')\n",
    "plt.legend(handles=[blue_patch,orange_patch,green_patch,red_patch,purple_patch],bbox_to_anchor=(1.05, 1), loc='upper left', borderaxespad=0.)\n"
   ]
  },
  {
   "cell_type": "code",
   "execution_count": null,
   "metadata": {},
   "outputs": [],
   "source": []
  },
  {
   "cell_type": "code",
   "execution_count": null,
   "metadata": {},
   "outputs": [],
   "source": []
  },
  {
   "cell_type": "code",
   "execution_count": null,
   "metadata": {},
   "outputs": [],
   "source": []
  }
 ],
 "metadata": {
  "kernelspec": {
   "display_name": "Python 3",
   "language": "python",
   "name": "python3"
  },
  "language_info": {
   "codemirror_mode": {
    "name": "ipython",
    "version": 3
   },
   "file_extension": ".py",
   "mimetype": "text/x-python",
   "name": "python",
   "nbconvert_exporter": "python",
   "pygments_lexer": "ipython3",
   "version": "3.6.5"
  }
 },
 "nbformat": 4,
 "nbformat_minor": 2
}
